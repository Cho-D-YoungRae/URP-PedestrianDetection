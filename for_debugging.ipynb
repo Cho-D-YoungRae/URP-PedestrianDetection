{
 "metadata": {
  "language_info": {
   "codemirror_mode": {
    "name": "ipython",
    "version": 3
   },
   "file_extension": ".py",
   "mimetype": "text/x-python",
   "name": "python",
   "nbconvert_exporter": "python",
   "pygments_lexer": "ipython3",
   "version": "3.8.10"
  },
  "orig_nbformat": 4,
  "kernelspec": {
   "name": "python3",
   "display_name": "Python 3.8.10 64-bit ('miniforge3-4.10': pyenv)"
  },
  "interpreter": {
   "hash": "3939cc71b0775995f87d0080b9fe835ac8893a0f8d4be661d2c5e02866bd40be"
  }
 },
 "nbformat": 4,
 "nbformat_minor": 2,
 "cells": [
  {
   "cell_type": "code",
   "execution_count": 1,
   "source": [
    "import object_detection\n",
    "\n",
    "ssd = object_detection.SSD300(3, \"VGGBase\", \"mean\")"
   ],
   "outputs": [
    {
     "output_type": "stream",
     "name": "stdout",
     "text": [
      "\n",
      "Loaded base model.\n",
      "\n"
     ]
    }
   ],
   "metadata": {
    "tags": []
   }
  },
  {
   "cell_type": "code",
   "execution_count": 2,
   "source": [
    "param_names = list(ssd.base.state_dict().keys())"
   ],
   "outputs": [],
   "metadata": {}
  },
  {
   "cell_type": "code",
   "execution_count": 7,
   "source": [
    "param_names"
   ],
   "outputs": [
    {
     "output_type": "execute_result",
     "data": {
      "text/plain": [
       "['conv1_1.weight',\n",
       " 'conv1_1.bias',\n",
       " 'conv1_2.weight',\n",
       " 'conv1_2.bias',\n",
       " 'conv2_1.weight',\n",
       " 'conv2_1.bias',\n",
       " 'conv2_2.weight',\n",
       " 'conv2_2.bias',\n",
       " 'conv3_1.weight',\n",
       " 'conv3_1.bias',\n",
       " 'conv3_2.weight',\n",
       " 'conv3_2.bias',\n",
       " 'conv3_3.weight',\n",
       " 'conv3_3.bias',\n",
       " 'conv4_1.weight',\n",
       " 'conv4_1.bias',\n",
       " 'conv4_2.weight',\n",
       " 'conv4_2.bias',\n",
       " 'conv4_3.weight',\n",
       " 'conv4_3.bias',\n",
       " 'conv5_1.weight',\n",
       " 'conv5_1.bias',\n",
       " 'conv5_2.weight',\n",
       " 'conv5_2.bias',\n",
       " 'conv5_3.weight',\n",
       " 'conv5_3.bias',\n",
       " 'conv6.weight',\n",
       " 'conv6.bias',\n",
       " 'conv7.weight',\n",
       " 'conv7.bias']"
      ]
     },
     "metadata": {},
     "execution_count": 7
    }
   ],
   "metadata": {}
  },
  {
   "cell_type": "code",
   "execution_count": 3,
   "source": [
    "import torch\n",
    "\n",
    "images = torch.rand((32, 1, 300, 300))"
   ],
   "outputs": [],
   "metadata": {}
  },
  {
   "cell_type": "code",
   "execution_count": 4,
   "source": [
    "ssd(images)"
   ],
   "outputs": [
    {
     "output_type": "execute_result",
     "data": {
      "text/plain": [
       "(tensor([[[-1.4772e-01,  5.1767e-01,  7.1242e-01,  6.3377e-01],\n",
       "          [-5.8228e-01, -8.7167e-01,  1.2538e+00,  2.8346e-02],\n",
       "          [ 5.1247e-01,  7.5050e-01,  8.2590e-01, -4.3977e-01],\n",
       "          ...,\n",
       "          [-8.7537e-04,  8.5779e-05, -1.2242e-03, -2.9970e-04],\n",
       "          [-1.7938e-03,  2.2264e-03, -2.8678e-04, -8.2143e-04],\n",
       "          [-2.2702e-03, -5.4597e-04, -1.3458e-03, -9.6049e-04]],\n",
       " \n",
       "         [[-8.4029e-01, -1.1459e+00,  1.1356e+00, -4.7648e-01],\n",
       "          [-8.2341e-02, -1.6741e-01,  2.8453e-01,  4.3839e-01],\n",
       "          [ 1.2254e+00,  9.5849e-01,  3.2690e-01,  6.8227e-01],\n",
       "          ...,\n",
       "          [-1.2326e-03,  1.7954e-04, -1.0347e-03, -2.7320e-04],\n",
       "          [-1.6271e-03,  2.5604e-03, -2.2232e-04, -9.2243e-04],\n",
       "          [-1.7166e-03, -9.0791e-04, -1.1384e-03, -5.1162e-04]],\n",
       " \n",
       "         [[-8.4029e-01, -1.1459e+00,  1.1356e+00, -4.7648e-01],\n",
       "          [-8.2341e-02, -1.6741e-01,  2.8453e-01,  4.3839e-01],\n",
       "          [ 1.2254e+00,  9.5849e-01,  3.2690e-01,  6.8227e-01],\n",
       "          ...,\n",
       "          [-1.2326e-03,  1.7954e-04, -1.0347e-03, -2.7320e-04],\n",
       "          [-1.6271e-03,  2.5604e-03, -2.2232e-04, -9.2243e-04],\n",
       "          [-1.7166e-03, -9.0791e-04, -1.1384e-03, -5.1162e-04]],\n",
       " \n",
       "         ...,\n",
       " \n",
       "         [[-8.4029e-01, -1.1459e+00,  1.1356e+00, -4.7648e-01],\n",
       "          [-8.2341e-02, -1.6741e-01,  2.8453e-01,  4.3839e-01],\n",
       "          [ 1.2254e+00,  9.5849e-01,  3.2690e-01,  6.8227e-01],\n",
       "          ...,\n",
       "          [-1.2326e-03,  1.7954e-04, -1.0347e-03, -2.7320e-04],\n",
       "          [-1.6271e-03,  2.5604e-03, -2.2232e-04, -9.2243e-04],\n",
       "          [-1.7166e-03, -9.0791e-04, -1.1384e-03, -5.1162e-04]],\n",
       " \n",
       "         [[-8.4029e-01, -1.1459e+00,  1.1356e+00, -4.7648e-01],\n",
       "          [-8.2341e-02, -1.6741e-01,  2.8453e-01,  4.3839e-01],\n",
       "          [ 1.2254e+00,  9.5849e-01,  3.2690e-01,  6.8227e-01],\n",
       "          ...,\n",
       "          [-1.2326e-03,  1.7954e-04, -1.0347e-03, -2.7320e-04],\n",
       "          [-1.6271e-03,  2.5604e-03, -2.2232e-04, -9.2243e-04],\n",
       "          [-1.7166e-03, -9.0791e-04, -1.1384e-03, -5.1162e-04]],\n",
       " \n",
       "         [[-8.4029e-01, -1.1459e+00,  1.1356e+00, -4.7648e-01],\n",
       "          [-8.2341e-02, -1.6741e-01,  2.8453e-01,  4.3839e-01],\n",
       "          [ 1.2254e+00,  9.5849e-01,  3.2690e-01,  6.8227e-01],\n",
       "          ...,\n",
       "          [-1.2326e-03,  1.7954e-04, -1.0347e-03, -2.7320e-04],\n",
       "          [-1.6271e-03,  2.5604e-03, -2.2232e-04, -9.2243e-04],\n",
       "          [-1.7166e-03, -9.0791e-04, -1.1384e-03, -5.1162e-04]]],\n",
       "        grad_fn=<CatBackward>),\n",
       " tensor([[[-7.4913e-01, -1.1318e+00,  9.7756e-01],\n",
       "          [ 6.8661e-01,  3.8370e-01,  8.6964e-02],\n",
       "          [ 1.5746e-01, -4.4436e-01, -7.5420e-01],\n",
       "          ...,\n",
       "          [-1.1213e-03, -8.6513e-04, -1.1129e-03],\n",
       "          [ 8.6307e-05,  8.4466e-04,  1.3889e-03],\n",
       "          [-9.3580e-04,  2.8448e-04,  1.4589e-03]],\n",
       " \n",
       "         [[ 1.0732e-01, -2.5409e-01,  1.9745e+00],\n",
       "          [-3.7684e-01,  1.3191e-01,  3.5855e-01],\n",
       "          [-4.2529e-01,  3.5953e-01, -4.3045e-01],\n",
       "          ...,\n",
       "          [-1.4940e-03, -9.0846e-04, -5.8550e-04],\n",
       "          [-3.2436e-04,  8.6968e-04,  1.3497e-03],\n",
       "          [-1.0527e-03,  3.5713e-04,  1.4413e-03]],\n",
       " \n",
       "         [[ 1.0732e-01, -2.5409e-01,  1.9745e+00],\n",
       "          [-3.7684e-01,  1.3191e-01,  3.5855e-01],\n",
       "          [-4.2529e-01,  3.5953e-01, -4.3045e-01],\n",
       "          ...,\n",
       "          [-1.4940e-03, -9.0846e-04, -5.8550e-04],\n",
       "          [-3.2436e-04,  8.6968e-04,  1.3497e-03],\n",
       "          [-1.0527e-03,  3.5713e-04,  1.4413e-03]],\n",
       " \n",
       "         ...,\n",
       " \n",
       "         [[ 1.0732e-01, -2.5409e-01,  1.9745e+00],\n",
       "          [-3.7684e-01,  1.3191e-01,  3.5855e-01],\n",
       "          [-4.2529e-01,  3.5953e-01, -4.3045e-01],\n",
       "          ...,\n",
       "          [-1.4940e-03, -9.0846e-04, -5.8550e-04],\n",
       "          [-3.2436e-04,  8.6968e-04,  1.3497e-03],\n",
       "          [-1.0527e-03,  3.5713e-04,  1.4413e-03]],\n",
       " \n",
       "         [[ 1.0732e-01, -2.5409e-01,  1.9745e+00],\n",
       "          [-3.7684e-01,  1.3191e-01,  3.5855e-01],\n",
       "          [-4.2529e-01,  3.5953e-01, -4.3045e-01],\n",
       "          ...,\n",
       "          [-1.4940e-03, -9.0846e-04, -5.8550e-04],\n",
       "          [-3.2436e-04,  8.6968e-04,  1.3497e-03],\n",
       "          [-1.0527e-03,  3.5713e-04,  1.4413e-03]],\n",
       " \n",
       "         [[ 1.0732e-01, -2.5409e-01,  1.9745e+00],\n",
       "          [-3.7684e-01,  1.3191e-01,  3.5855e-01],\n",
       "          [-4.2529e-01,  3.5953e-01, -4.3045e-01],\n",
       "          ...,\n",
       "          [-1.4940e-03, -9.0846e-04, -5.8550e-04],\n",
       "          [-3.2436e-04,  8.6968e-04,  1.3497e-03],\n",
       "          [-1.0527e-03,  3.5713e-04,  1.4413e-03]]], grad_fn=<CatBackward>))"
      ]
     },
     "metadata": {},
     "execution_count": 4
    }
   ],
   "metadata": {}
  },
  {
   "cell_type": "code",
   "execution_count": 2,
   "source": [
    "a = {1, 2}\n",
    "b = {5}\n",
    "c = {7}"
   ],
   "outputs": [],
   "metadata": {}
  },
  {
   "cell_type": "code",
   "execution_count": 5,
   "source": [
    "print(a | b | c)"
   ],
   "outputs": [
    {
     "output_type": "stream",
     "name": "stdout",
     "text": [
      "{1, 2, 5, 7}\n"
     ]
    }
   ],
   "metadata": {}
  },
  {
   "cell_type": "code",
   "execution_count": 6,
   "source": [
    "\"all-mean\".split('-')"
   ],
   "outputs": [
    {
     "output_type": "execute_result",
     "data": {
      "text/plain": [
       "['all', 'mean']"
      ]
     },
     "metadata": {},
     "execution_count": 6
    }
   ],
   "metadata": {}
  },
  {
   "cell_type": "code",
   "execution_count": 4,
   "source": [
    "import torchvision.transforms.functional as TF\n",
    "import torch"
   ],
   "outputs": [],
   "metadata": {}
  },
  {
   "cell_type": "code",
   "execution_count": 12,
   "source": [
    "mean = [0.485, 0.456, 0.406]\n",
    "std = [0.229, 0.224, 0.225]\n",
    "\n",
    "input = torch.rand((3, 300, 300))\n",
    "TF.normalize(input, mean=mean, std=std).shape"
   ],
   "outputs": [
    {
     "output_type": "execute_result",
     "data": {
      "text/plain": [
       "torch.Size([3, 300, 300])"
      ]
     },
     "metadata": {},
     "execution_count": 12
    }
   ],
   "metadata": {}
  },
  {
   "cell_type": "code",
   "execution_count": 18,
   "source": [
    "mean = [0.485, 0.456, 0.406]\n",
    "std = [0.229, 0.224, 0.225]\n",
    "mean.append(sum(mean) / len(mean))\n",
    "std.append(sum(std) / len(std))\n",
    "\n",
    "input = torch.rand((4, 300, 300))\n",
    "TF.normalize(input, mean=mean, std=std).shape"
   ],
   "outputs": [
    {
     "output_type": "execute_result",
     "data": {
      "text/plain": [
       "torch.Size([4, 300, 300])"
      ]
     },
     "metadata": {},
     "execution_count": 18
    }
   ],
   "metadata": {}
  },
  {
   "cell_type": "code",
   "execution_count": 19,
   "source": [
    "std"
   ],
   "outputs": [
    {
     "output_type": "execute_result",
     "data": {
      "text/plain": [
       "[0.229, 0.224, 0.225, 0.226]"
      ]
     },
     "metadata": {},
     "execution_count": 19
    }
   ],
   "metadata": {}
  },
  {
   "cell_type": "code",
   "execution_count": 1,
   "source": [
    "d = {'a': 1, 'b': 3}\n",
    "d.get('a')"
   ],
   "outputs": [
    {
     "output_type": "execute_result",
     "data": {
      "text/plain": [
       "1"
      ]
     },
     "metadata": {},
     "execution_count": 1
    }
   ],
   "metadata": {}
  },
  {
   "cell_type": "code",
   "execution_count": 1,
   "source": [
    "{1, 2, 3} - {2}"
   ],
   "outputs": [
    {
     "output_type": "execute_result",
     "data": {
      "text/plain": [
       "{1, 3}"
      ]
     },
     "metadata": {},
     "execution_count": 1
    }
   ],
   "metadata": {}
  },
  {
   "cell_type": "code",
   "execution_count": 1,
   "source": [
    "def test_func(a, b, c):\n",
    "    print(a)\n",
    "    print(b)\n",
    "    print(c)\n",
    "    \n",
    "l = [1, 2, 3]    \n",
    "test_func(*l)"
   ],
   "outputs": [
    {
     "output_type": "stream",
     "name": "stdout",
     "text": [
      "1\n",
      "2\n",
      "3\n"
     ]
    }
   ],
   "metadata": {}
  },
  {
   "cell_type": "code",
   "execution_count": 2,
   "source": [
    "import torchvision\n",
    "\n",
    "torchvision.models.vgg16_bn(pretrained=True)"
   ],
   "outputs": [
    {
     "output_type": "execute_result",
     "data": {
      "text/plain": [
       "VGG(\n",
       "  (features): Sequential(\n",
       "    (0): Conv2d(3, 64, kernel_size=(3, 3), stride=(1, 1), padding=(1, 1))\n",
       "    (1): BatchNorm2d(64, eps=1e-05, momentum=0.1, affine=True, track_running_stats=True)\n",
       "    (2): ReLU(inplace=True)\n",
       "    (3): Conv2d(64, 64, kernel_size=(3, 3), stride=(1, 1), padding=(1, 1))\n",
       "    (4): BatchNorm2d(64, eps=1e-05, momentum=0.1, affine=True, track_running_stats=True)\n",
       "    (5): ReLU(inplace=True)\n",
       "    (6): MaxPool2d(kernel_size=2, stride=2, padding=0, dilation=1, ceil_mode=False)\n",
       "    (7): Conv2d(64, 128, kernel_size=(3, 3), stride=(1, 1), padding=(1, 1))\n",
       "    (8): BatchNorm2d(128, eps=1e-05, momentum=0.1, affine=True, track_running_stats=True)\n",
       "    (9): ReLU(inplace=True)\n",
       "    (10): Conv2d(128, 128, kernel_size=(3, 3), stride=(1, 1), padding=(1, 1))\n",
       "    (11): BatchNorm2d(128, eps=1e-05, momentum=0.1, affine=True, track_running_stats=True)\n",
       "    (12): ReLU(inplace=True)\n",
       "    (13): MaxPool2d(kernel_size=2, stride=2, padding=0, dilation=1, ceil_mode=False)\n",
       "    (14): Conv2d(128, 256, kernel_size=(3, 3), stride=(1, 1), padding=(1, 1))\n",
       "    (15): BatchNorm2d(256, eps=1e-05, momentum=0.1, affine=True, track_running_stats=True)\n",
       "    (16): ReLU(inplace=True)\n",
       "    (17): Conv2d(256, 256, kernel_size=(3, 3), stride=(1, 1), padding=(1, 1))\n",
       "    (18): BatchNorm2d(256, eps=1e-05, momentum=0.1, affine=True, track_running_stats=True)\n",
       "    (19): ReLU(inplace=True)\n",
       "    (20): Conv2d(256, 256, kernel_size=(3, 3), stride=(1, 1), padding=(1, 1))\n",
       "    (21): BatchNorm2d(256, eps=1e-05, momentum=0.1, affine=True, track_running_stats=True)\n",
       "    (22): ReLU(inplace=True)\n",
       "    (23): MaxPool2d(kernel_size=2, stride=2, padding=0, dilation=1, ceil_mode=False)\n",
       "    (24): Conv2d(256, 512, kernel_size=(3, 3), stride=(1, 1), padding=(1, 1))\n",
       "    (25): BatchNorm2d(512, eps=1e-05, momentum=0.1, affine=True, track_running_stats=True)\n",
       "    (26): ReLU(inplace=True)\n",
       "    (27): Conv2d(512, 512, kernel_size=(3, 3), stride=(1, 1), padding=(1, 1))\n",
       "    (28): BatchNorm2d(512, eps=1e-05, momentum=0.1, affine=True, track_running_stats=True)\n",
       "    (29): ReLU(inplace=True)\n",
       "    (30): Conv2d(512, 512, kernel_size=(3, 3), stride=(1, 1), padding=(1, 1))\n",
       "    (31): BatchNorm2d(512, eps=1e-05, momentum=0.1, affine=True, track_running_stats=True)\n",
       "    (32): ReLU(inplace=True)\n",
       "    (33): MaxPool2d(kernel_size=2, stride=2, padding=0, dilation=1, ceil_mode=False)\n",
       "    (34): Conv2d(512, 512, kernel_size=(3, 3), stride=(1, 1), padding=(1, 1))\n",
       "    (35): BatchNorm2d(512, eps=1e-05, momentum=0.1, affine=True, track_running_stats=True)\n",
       "    (36): ReLU(inplace=True)\n",
       "    (37): Conv2d(512, 512, kernel_size=(3, 3), stride=(1, 1), padding=(1, 1))\n",
       "    (38): BatchNorm2d(512, eps=1e-05, momentum=0.1, affine=True, track_running_stats=True)\n",
       "    (39): ReLU(inplace=True)\n",
       "    (40): Conv2d(512, 512, kernel_size=(3, 3), stride=(1, 1), padding=(1, 1))\n",
       "    (41): BatchNorm2d(512, eps=1e-05, momentum=0.1, affine=True, track_running_stats=True)\n",
       "    (42): ReLU(inplace=True)\n",
       "    (43): MaxPool2d(kernel_size=2, stride=2, padding=0, dilation=1, ceil_mode=False)\n",
       "  )\n",
       "  (avgpool): AdaptiveAvgPool2d(output_size=(7, 7))\n",
       "  (classifier): Sequential(\n",
       "    (0): Linear(in_features=25088, out_features=4096, bias=True)\n",
       "    (1): ReLU(inplace=True)\n",
       "    (2): Dropout(p=0.5, inplace=False)\n",
       "    (3): Linear(in_features=4096, out_features=4096, bias=True)\n",
       "    (4): ReLU(inplace=True)\n",
       "    (5): Dropout(p=0.5, inplace=False)\n",
       "    (6): Linear(in_features=4096, out_features=1000, bias=True)\n",
       "  )\n",
       ")"
      ]
     },
     "metadata": {},
     "execution_count": 2
    }
   ],
   "metadata": {}
  },
  {
   "cell_type": "code",
   "execution_count": null,
   "source": [],
   "outputs": [],
   "metadata": {}
  },
  {
   "cell_type": "code",
   "execution_count": 1,
   "source": [
    "import object_detection\n",
    "\n",
    "ssd = object_detection.SSD300(2, 'VGG16bnBase')"
   ],
   "outputs": [
    {
     "output_type": "stream",
     "name": "stdout",
     "text": [
      "> \u001b[0;32m/Users/jody/Desktop/URP-PedestrianDetection/base_model.py\u001b[0m(240)\u001b[0;36mload_pretrained_layers\u001b[0;34m()\u001b[0m\n",
      "\u001b[0;32m    238 \u001b[0;31m\u001b[0;34m\u001b[0m\u001b[0m\n",
      "\u001b[0m\u001b[0;32m    239 \u001b[0;31m        \u001b[0;32mimport\u001b[0m \u001b[0mpdb\u001b[0m\u001b[0;34m;\u001b[0m \u001b[0mpdb\u001b[0m\u001b[0;34m.\u001b[0m\u001b[0mset_trace\u001b[0m\u001b[0;34m(\u001b[0m\u001b[0;34m)\u001b[0m\u001b[0;31m## for debugging\u001b[0m\u001b[0;34m\u001b[0m\u001b[0;34m\u001b[0m\u001b[0m\n",
      "\u001b[0m\u001b[0;32m--> 240 \u001b[0;31m        \u001b[0;32mif\u001b[0m \u001b[0mself\u001b[0m\u001b[0;34m.\u001b[0m\u001b[0mch_option\u001b[0m\u001b[0;34m.\u001b[0m\u001b[0mget\u001b[0m\u001b[0;34m(\u001b[0m\u001b[0;34m'num_ch'\u001b[0m\u001b[0;34m)\u001b[0m \u001b[0;34m==\u001b[0m \u001b[0;36m1\u001b[0m\u001b[0;34m:\u001b[0m\u001b[0;34m\u001b[0m\u001b[0;34m\u001b[0m\u001b[0m\n",
      "\u001b[0m\u001b[0;32m    241 \u001b[0;31m            \u001b[0;32mif\u001b[0m \u001b[0mself\u001b[0m\u001b[0;34m.\u001b[0m\u001b[0mch_option\u001b[0m\u001b[0;34m.\u001b[0m\u001b[0mget\u001b[0m\u001b[0;34m(\u001b[0m\u001b[0;34m'one_ch_option'\u001b[0m\u001b[0;34m)\u001b[0m \u001b[0;34m==\u001b[0m \u001b[0;34m\"mean\"\u001b[0m\u001b[0;34m:\u001b[0m\u001b[0;34m\u001b[0m\u001b[0;34m\u001b[0m\u001b[0m\n",
      "\u001b[0m\u001b[0;32m    242 \u001b[0;31m                \u001b[0mstate_dict\u001b[0m\u001b[0;34m[\u001b[0m\u001b[0mparam_names\u001b[0m\u001b[0;34m[\u001b[0m\u001b[0;36m0\u001b[0m\u001b[0;34m]\u001b[0m\u001b[0;34m]\u001b[0m \u001b[0;34m=\u001b[0m\u001b[0;31m \u001b[0m\u001b[0;31m\\\u001b[0m\u001b[0;34m\u001b[0m\u001b[0;34m\u001b[0m\u001b[0m\n",
      "\u001b[0m\n",
      "*** SyntaxError: unexpected EOF while parsing\n",
      "97\n",
      "95\n",
      "['conv1_1.weight', 'conv1_1.bias', 'conv1_1_bn.weight', 'conv1_1_bn.bias', 'conv1_1_bn.running_mean', 'conv1_1_bn.running_var', 'conv1_1_bn.num_batches_tracked', 'conv1_2.weight', 'conv1_2.bias', 'conv1_2_bn.weight', 'conv1_2_bn.bias', 'conv1_2_bn.running_mean', 'conv1_2_bn.running_var', 'conv1_2_bn.num_batches_tracked', 'conv2_1.weight', 'conv2_1.bias', 'conv2_1_bn.weight', 'conv2_1_bn.bias', 'conv2_1_bn.running_mean', 'conv2_1_bn.running_var', 'conv2_1_bn.num_batches_tracked', 'conv2_2.weight', 'conv2_2.bias', 'conv2_2_bn.weight', 'conv2_2_bn.bias', 'conv2_2_bn.running_mean', 'conv2_2_bn.running_var', 'conv2_2_bn.num_batches_tracked', 'conv3_1.weight', 'conv3_1.bias', 'conv3_1_bn.weight', 'conv3_1_bn.bias', 'conv3_1_bn.running_mean', 'conv3_1_bn.running_var', 'conv3_1_bn.num_batches_tracked', 'conv3_2.weight', 'conv3_2.bias', 'conv3_2_bn.weight', 'conv3_2_bn.bias', 'conv3_2_bn.running_mean', 'conv3_2_bn.running_var', 'conv3_2_bn.num_batches_tracked', 'conv3_3.weight', 'conv3_3.bias', 'conv3_3_bn.weight', 'conv3_3_bn.bias', 'conv3_3_bn.running_mean', 'conv3_3_bn.running_var', 'conv3_3_bn.num_batches_tracked', 'conv4_1.weight', 'conv4_1.bias', 'conv4_1_bn.weight', 'conv4_1_bn.bias', 'conv4_1_bn.running_mean', 'conv4_1_bn.running_var', 'conv4_1_bn.num_batches_tracked', 'conv4_2.weight', 'conv4_2.bias', 'conv4_2_bn.weight', 'conv4_2_bn.bias', 'conv4_2_bn.running_mean', 'conv4_2_bn.running_var', 'conv4_2_bn.num_batches_tracked', 'conv4_3.weight', 'conv4_3.bias', 'conv4_3_bn.weight', 'conv4_3_bn.bias', 'conv4_3_bn.running_mean', 'conv4_3_bn.running_var', 'conv4_3_bn.num_batches_tracked', 'conv5_1.weight', 'conv5_1.bias', 'conv5_1_bn.weight', 'conv5_1_bn.bias', 'conv5_1_bn.running_mean', 'conv5_1_bn.running_var', 'conv5_1_bn.num_batches_tracked', 'conv5_2.weight', 'conv5_2.bias', 'conv5_2_bn.weight', 'conv5_2_bn.bias', 'conv5_2_bn.running_mean', 'conv5_2_bn.running_var', 'conv5_2_bn.num_batches_tracked', 'conv5_3.weight', 'conv5_3.bias', 'conv5_3_bn.weight', 'conv5_3_bn.bias', 'conv5_3_bn.running_mean', 'conv5_3_bn.running_var', 'conv5_3_bn.num_batches_tracked', 'conv6.weight', 'conv6.bias', 'conv7.weight', 'conv7.bias']\n",
      "['features.0.weight', 'features.0.bias', 'features.1.weight', 'features.1.bias', 'features.1.running_mean', 'features.1.running_var', 'features.1.num_batches_tracked', 'features.3.weight', 'features.3.bias', 'features.4.weight', 'features.4.bias', 'features.4.running_mean', 'features.4.running_var', 'features.4.num_batches_tracked', 'features.7.weight', 'features.7.bias', 'features.8.weight', 'features.8.bias', 'features.8.running_mean', 'features.8.running_var', 'features.8.num_batches_tracked', 'features.10.weight', 'features.10.bias', 'features.11.weight', 'features.11.bias', 'features.11.running_mean', 'features.11.running_var', 'features.11.num_batches_tracked', 'features.14.weight', 'features.14.bias', 'features.15.weight', 'features.15.bias', 'features.15.running_mean', 'features.15.running_var', 'features.15.num_batches_tracked', 'features.17.weight', 'features.17.bias', 'features.18.weight', 'features.18.bias', 'features.18.running_mean', 'features.18.running_var', 'features.18.num_batches_tracked', 'features.20.weight', 'features.20.bias', 'features.21.weight', 'features.21.bias', 'features.21.running_mean', 'features.21.running_var', 'features.21.num_batches_tracked', 'features.24.weight', 'features.24.bias', 'features.25.weight', 'features.25.bias', 'features.25.running_mean', 'features.25.running_var', 'features.25.num_batches_tracked', 'features.27.weight', 'features.27.bias', 'features.28.weight', 'features.28.bias', 'features.28.running_mean', 'features.28.running_var', 'features.28.num_batches_tracked', 'features.30.weight', 'features.30.bias', 'features.31.weight', 'features.31.bias', 'features.31.running_mean', 'features.31.running_var', 'features.31.num_batches_tracked', 'features.34.weight', 'features.34.bias', 'features.35.weight', 'features.35.bias', 'features.35.running_mean', 'features.35.running_var', 'features.35.num_batches_tracked', 'features.37.weight', 'features.37.bias', 'features.38.weight', 'features.38.bias', 'features.38.running_mean', 'features.38.running_var', 'features.38.num_batches_tracked', 'features.40.weight', 'features.40.bias', 'features.41.weight', 'features.41.bias', 'features.41.running_mean', 'features.41.running_var', 'features.41.num_batches_tracked', 'classifier.0.weight', 'classifier.0.bias', 'classifier.3.weight', 'classifier.3.bias', 'classifier.6.weight', 'classifier.6.bias']\n"
     ]
    }
   ],
   "metadata": {}
  },
  {
   "cell_type": "code",
   "execution_count": 3,
   "source": [
    "def test_fn():\n",
    "    a = 1\n",
    "    b = 2\n",
    "    c = 3\n",
    "    \n",
    "    return a, b, c\n",
    "\n",
    "l = test_fn()\n",
    "l"
   ],
   "outputs": [
    {
     "output_type": "execute_result",
     "data": {
      "text/plain": [
       "(1, 2, 3)"
      ]
     },
     "metadata": {},
     "execution_count": 3
    }
   ],
   "metadata": {}
  },
  {
   "cell_type": "code",
   "execution_count": null,
   "source": [],
   "outputs": [],
   "metadata": {}
  }
 ]
}